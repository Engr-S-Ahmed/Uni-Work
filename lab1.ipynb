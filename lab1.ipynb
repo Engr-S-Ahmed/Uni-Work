{
 "cells": [
  {
   "attachments": {},
   "cell_type": "markdown",
   "metadata": {},
   "source": [
    "## Name: Shahbaz Ahmed\n",
    "# Reg No : 202101021\n",
    "# Semester : BSCE - 07\n",
    "# Course : Artificial Intelligence\n",
    "# LAB TASK 1"
   ]
  },
  {
   "attachments": {},
   "cell_type": "markdown",
   "metadata": {},
   "source": [
    "Example 1:Variables"
   ]
  },
  {
   "cell_type": "code",
   "execution_count": 3,
   "metadata": {},
   "outputs": [
    {
     "name": "stdout",
     "output_type": "stream",
     "text": [
      "The data type of i is  <class 'int'>\n"
     ]
    }
   ],
   "source": [
    "i = 10\n",
    "print(\"The data type of i is \", type(i))"
   ]
  },
  {
   "cell_type": "code",
   "execution_count": 4,
   "metadata": {},
   "outputs": [
    {
     "name": "stdout",
     "output_type": "stream",
     "text": [
      "The data type of x is  <class 'str'>\n"
     ]
    }
   ],
   "source": [
    "x = 'abc'\n",
    "print(\"The data type of x is \", type(x))"
   ]
  },
  {
   "cell_type": "code",
   "execution_count": 5,
   "metadata": {},
   "outputs": [
    {
     "name": "stdout",
     "output_type": "stream",
     "text": [
      "The data type of z is  <class 'complex'>\n"
     ]
    }
   ],
   "source": [
    "z = 2+3j\n",
    "print(\"The data type of z is \", type(z))"
   ]
  },
  {
   "cell_type": "code",
   "execution_count": 6,
   "metadata": {},
   "outputs": [
    {
     "name": "stdout",
     "output_type": "stream",
     "text": [
      "The data type of j is  <class 'float'>\n"
     ]
    }
   ],
   "source": [
    "j = 0.9\n",
    "print(\"The data type of j is \", type(j))"
   ]
  },
  {
   "cell_type": "code",
   "execution_count": 7,
   "metadata": {},
   "outputs": [
    {
     "name": "stdout",
     "output_type": "stream",
     "text": [
      "The data type of check is  <class 'bool'>\n"
     ]
    }
   ],
   "source": [
    "check = True\n",
    "print(\"The data type of check is \", type(check))\n"
   ]
  },
  {
   "attachments": {},
   "cell_type": "markdown",
   "metadata": {},
   "source": [
    "Example 2 : Input function"
   ]
  },
  {
   "cell_type": "code",
   "execution_count": 8,
   "metadata": {},
   "outputs": [
    {
     "data": {
      "text/plain": [
       "'10'"
      ]
     },
     "execution_count": 8,
     "metadata": {},
     "output_type": "execute_result"
    }
   ],
   "source": [
    "num1 = input(\"Enter 1st Number = \")\n",
    "num1"
   ]
  },
  {
   "cell_type": "code",
   "execution_count": 9,
   "metadata": {},
   "outputs": [
    {
     "data": {
      "text/plain": [
       "10"
      ]
     },
     "execution_count": 9,
     "metadata": {},
     "output_type": "execute_result"
    }
   ],
   "source": [
    "num1 = int(num1)\n",
    "num1"
   ]
  },
  {
   "cell_type": "code",
   "execution_count": 10,
   "metadata": {},
   "outputs": [
    {
     "data": {
      "text/plain": [
       "50"
      ]
     },
     "execution_count": 10,
     "metadata": {},
     "output_type": "execute_result"
    }
   ],
   "source": [
    "num2 = int(input(\"Enter 2nd Number = \"))\n",
    "num2"
   ]
  },
  {
   "attachments": {},
   "cell_type": "markdown",
   "metadata": {},
   "source": [
    "Addition"
   ]
  },
  {
   "cell_type": "code",
   "execution_count": 11,
   "metadata": {},
   "outputs": [
    {
     "data": {
      "text/plain": [
       "60"
      ]
     },
     "execution_count": 11,
     "metadata": {},
     "output_type": "execute_result"
    }
   ],
   "source": [
    "add = num1 + num2\n",
    "add"
   ]
  },
  {
   "attachments": {},
   "cell_type": "markdown",
   "metadata": {},
   "source": [
    "Subtraction"
   ]
  },
  {
   "cell_type": "code",
   "execution_count": 12,
   "metadata": {},
   "outputs": [
    {
     "data": {
      "text/plain": [
       "-40"
      ]
     },
     "execution_count": 12,
     "metadata": {},
     "output_type": "execute_result"
    }
   ],
   "source": [
    "Sub = num1 - num2\n",
    "Sub"
   ]
  },
  {
   "attachments": {},
   "cell_type": "markdown",
   "metadata": {},
   "source": [
    "Multiplication"
   ]
  },
  {
   "cell_type": "code",
   "execution_count": 13,
   "metadata": {},
   "outputs": [
    {
     "data": {
      "text/plain": [
       "500"
      ]
     },
     "execution_count": 13,
     "metadata": {},
     "output_type": "execute_result"
    }
   ],
   "source": [
    "Mul = num1 * num2\n",
    "Mul"
   ]
  },
  {
   "attachments": {},
   "cell_type": "markdown",
   "metadata": {},
   "source": [
    "Division"
   ]
  },
  {
   "cell_type": "code",
   "execution_count": 14,
   "metadata": {},
   "outputs": [
    {
     "data": {
      "text/plain": [
       "0.2"
      ]
     },
     "execution_count": 14,
     "metadata": {},
     "output_type": "execute_result"
    }
   ],
   "source": [
    "Div = num1 / num2\n",
    "Div"
   ]
  },
  {
   "attachments": {},
   "cell_type": "markdown",
   "metadata": {},
   "source": [
    "Mod"
   ]
  },
  {
   "cell_type": "code",
   "execution_count": 15,
   "metadata": {},
   "outputs": [
    {
     "data": {
      "text/plain": [
       "10"
      ]
     },
     "execution_count": 15,
     "metadata": {},
     "output_type": "execute_result"
    }
   ],
   "source": [
    "Mod = num1%num2\n",
    "Mod"
   ]
  },
  {
   "attachments": {},
   "cell_type": "markdown",
   "metadata": {},
   "source": [
    "Exponent"
   ]
  },
  {
   "cell_type": "code",
   "execution_count": 16,
   "metadata": {},
   "outputs": [
    {
     "data": {
      "text/plain": [
       "100000000000000000000000000000000000000000000000000"
      ]
     },
     "execution_count": 16,
     "metadata": {},
     "output_type": "execute_result"
    }
   ],
   "source": [
    "exp = num1**num2\n",
    "exp"
   ]
  },
  {
   "cell_type": "code",
   "execution_count": 17,
   "metadata": {},
   "outputs": [
    {
     "name": "stdout",
     "output_type": "stream",
     "text": [
      "The addition of numbers is  5\n",
      "The subtraction of numbers is  -1\n",
      "The multiplication of numbers is  6\n",
      "The division of numbers is  0.6666666666666666\n",
      "The modulus of numbers is  2\n",
      "The exponent of numbers is  8\n",
      "The AND of numbers is  3\n",
      "The OR of numbers is  2\n",
      "The NOT of numbers is  False\n"
     ]
    }
   ],
   "source": [
    "x1 = input('Enter 1st number = ')\n",
    "y1 = input('Enter 2nd number = ')\n",
    "x=int(x1)\n",
    "y=int(y1)\n",
    "add=x+y\n",
    "sub=x-y\n",
    "mul=x*y\n",
    "div=x/y\n",
    "mod=x%y\n",
    "exp=x**y\n",
    "a=x and y\n",
    "b=x or y\n",
    "c=not x \n",
    "#print\n",
    "print(\"The addition of numbers is \",add) \n",
    "print(\"The subtraction of numbers is \", sub) \n",
    "print(\"The multiplication of numbers is \",mul) \n",
    "print(\"The division of numbers is \",div) \n",
    "print(\"The modulus of numbers is \", mod) \n",
    "print(\"The exponent of numbers is \",exp) \n",
    "print(\"The AND of numbers is \",a) \n",
    "print(\"The OR of numbers is \",b)\n",
    "print(\"The NOT of numbers is \",c)"
   ]
  },
  {
   "attachments": {},
   "cell_type": "markdown",
   "metadata": {},
   "source": [
    "Example 03: String"
   ]
  },
  {
   "cell_type": "code",
   "execution_count": 18,
   "metadata": {},
   "outputs": [],
   "source": [
    "longStr=input(\"Enter a long string : \")"
   ]
  },
  {
   "cell_type": "code",
   "execution_count": 19,
   "metadata": {},
   "outputs": [
    {
     "data": {
      "text/plain": [
       "'Hi ! my name is Shahbaz .I am a RHCSA Kubernetes Enginner'"
      ]
     },
     "execution_count": 19,
     "metadata": {},
     "output_type": "execute_result"
    }
   ],
   "source": [
    "longStr"
   ]
  },
  {
   "cell_type": "code",
   "execution_count": 20,
   "metadata": {},
   "outputs": [
    {
     "name": "stdout",
     "output_type": "stream",
     "text": [
      "The length of given string is 57 includig spaces.\n"
     ]
    }
   ],
   "source": [
    "print(f\"The length of given string is {len(longStr)} includig spaces.\")"
   ]
  },
  {
   "cell_type": "code",
   "execution_count": 21,
   "metadata": {},
   "outputs": [
    {
     "name": "stdout",
     "output_type": "stream",
     "text": [
      "The first character of the given string is  H\n"
     ]
    }
   ],
   "source": [
    "print(\"The first character of the given string is \", longStr[0])"
   ]
  },
  {
   "cell_type": "code",
   "execution_count": 22,
   "metadata": {},
   "outputs": [
    {
     "name": "stdout",
     "output_type": "stream",
     "text": [
      "The last character of the given string is r\n"
     ]
    }
   ],
   "source": [
    "print(f\"The last character of the given string is {longStr[-1]}\")"
   ]
  },
  {
   "cell_type": "code",
   "execution_count": 23,
   "metadata": {},
   "outputs": [
    {
     "name": "stdout",
     "output_type": "stream",
     "text": [
      "The given string in upper case : \n",
      " HI ! MY NAME IS SHAHBAZ .I AM A RHCSA KUBERNETES ENGINNER\n"
     ]
    }
   ],
   "source": [
    "print(f\"The given string in upper case : \\n {longStr.upper()}\")"
   ]
  },
  {
   "cell_type": "code",
   "execution_count": 24,
   "metadata": {},
   "outputs": [
    {
     "name": "stdout",
     "output_type": "stream",
     "text": [
      "The splited string : \n",
      " ['Hi', '!', 'my', 'name', 'is', 'Shahbaz', '.I', 'am', 'a', 'RHCSA', 'Kubernetes', 'Enginner']\n"
     ]
    }
   ],
   "source": [
    "print(f\"The splited string : \\n {longStr.split(' ')}\") "
   ]
  },
  {
   "cell_type": "code",
   "execution_count": 25,
   "metadata": {},
   "outputs": [
    {
     "name": "stdout",
     "output_type": "stream",
     "text": [
      "In the given string 'a' has occured : 5 \n"
     ]
    }
   ],
   "source": [
    "print(f\"In the given string 'a' has occured : {longStr.count('a')} \")\n"
   ]
  },
  {
   "cell_type": "code",
   "execution_count": 39,
   "metadata": {},
   "outputs": [
    {
     "name": "stdout",
     "output_type": "stream",
     "text": [
      "The replaced string is up:  Hi ! my name is Shahbaz .I am a Artificial Kubernetes Enginner\n"
     ]
    }
   ],
   "source": [
    "print(\"The replaced string is up: \",longStr.replace('RHCSA','Artificial'))\n"
   ]
  },
  {
   "cell_type": "code",
   "execution_count": 27,
   "metadata": {},
   "outputs": [
    {
     "name": "stdout",
     "output_type": "stream",
     "text": [
      "The reversed string is : rennignE setenrebuK ASCHR a ma I. zabhahS si eman ym ! iH\n"
     ]
    }
   ],
   "source": [
    "print(f\"The reversed string is : {longStr[::-1]}\")\n"
   ]
  },
  {
   "attachments": {},
   "cell_type": "markdown",
   "metadata": {},
   "source": [
    "Example 04: Single Line Input in Python"
   ]
  },
  {
   "cell_type": "code",
   "execution_count": 3,
   "metadata": {},
   "outputs": [
    {
     "name": "stdout",
     "output_type": "stream",
     "text": [
      "The average of the numbers entered is =  3.0\n"
     ]
    }
   ],
   "source": [
    "x, y, z=input('Enter three numbers with spaces to distinguish them = ').split(' ')\n",
    "x1 = int(x)\n",
    "x2 = int(y)\n",
    "x3 = int(z)\n",
    "\n",
    "avg=(x1+x2+x3)/3\n",
    "print(\"The average of the numbers entered is = \", avg)"
   ]
  },
  {
   "attachments": {},
   "cell_type": "markdown",
   "metadata": {},
   "source": [
    "Example 05: List"
   ]
  },
  {
   "cell_type": "code",
   "execution_count": 6,
   "metadata": {},
   "outputs": [
    {
     "data": {
      "text/plain": [
       "[1, 2, 'A', 'Aqsa', 3, 4, 'E', 'Esha', 'Ayesha', 'Ayra']"
      ]
     },
     "execution_count": 6,
     "metadata": {},
     "output_type": "execute_result"
    }
   ],
   "source": [
    "list=[1,2, 'A', 'Aqsa',3,4, 'E', 'Esha', 'Ayesha', 'Ayra']\n",
    "list"
   ]
  },
  {
   "cell_type": "code",
   "execution_count": 7,
   "metadata": {},
   "outputs": [
    {
     "name": "stdout",
     "output_type": "stream",
     "text": [
      "The updated list with element of 3rd index =  [1, 2, 'B', 'Aqsa', 3, 4, 'E', 'Esha', 'Ayesha', 'Ayra']\n"
     ]
    }
   ],
   "source": [
    "list[2]='B'\n",
    "\n",
    "print(\"The updated list with element of 3rd index = \",list)"
   ]
  },
  {
   "cell_type": "code",
   "execution_count": 8,
   "metadata": {},
   "outputs": [
    {
     "name": "stdout",
     "output_type": "stream",
     "text": [
      "The reversed list is : ['Ayra', 'Ayesha', 'Esha', 'E', 4, 3, 'Aqsa', 'B', 2, 1]\n"
     ]
    }
   ],
   "source": [
    "print(\"The reversed list is :\",list[::-1])"
   ]
  },
  {
   "cell_type": "code",
   "execution_count": 7,
   "metadata": {},
   "outputs": [
    {
     "data": {
      "text/plain": [
       "[1, 2, 'A', 'Aqsa', 3, 4, 'E', 'Esha', 'Ayesha', 'Ayra']"
      ]
     },
     "execution_count": 7,
     "metadata": {},
     "output_type": "execute_result"
    }
   ],
   "source": [
    "list=[1,2, 'A', 'Aqsa',3,4, 'E', 'Esha', 'Ayesha', 'Ayra']\n",
    "list"
   ]
  },
  {
   "cell_type": "code",
   "execution_count": 8,
   "metadata": {},
   "outputs": [
    {
     "name": "stdout",
     "output_type": "stream",
     "text": [
      "The list after inserting elements of 2nd index is : [1, 66, 45, 2, 'A', 'Aqsa', 3, 4, 'E', 'Esha', 'Ayesha', 'Ayra']\n"
     ]
    }
   ],
   "source": [
    "list.insert(1,45)\n",
    "list.insert(1,66)\n",
    "print(\"The list after inserting elements of 2nd index is :\",list)"
   ]
  },
  {
   "cell_type": "code",
   "execution_count": 9,
   "metadata": {},
   "outputs": [
    {
     "name": "stdout",
     "output_type": "stream",
     "text": [
      "The list after popping element of 1st index is : [66, 45, 2, 'A', 'Aqsa', 3, 4, 'E', 'Esha', 'Ayesha', 'Ayra']\n"
     ]
    }
   ],
   "source": [
    "list.pop(0)\n",
    "print(\"The list after popping element of 1st index is :\", list)"
   ]
  },
  {
   "attachments": {},
   "cell_type": "markdown",
   "metadata": {},
   "source": [
    "Example 06: Dictionary"
   ]
  },
  {
   "cell_type": "code",
   "execution_count": 13,
   "metadata": {},
   "outputs": [],
   "source": [
    "mydict={ \"Artifical\" : \"made or produced by human beings rather than occurring naturally, especially as a copy of something\",\n",
    "        \"Intelligence\" : \"the ability to acquire and apply knowledge and skills.\",\n",
    "        2023: \"The current year\"}"
   ]
  },
  {
   "cell_type": "code",
   "execution_count": 14,
   "metadata": {},
   "outputs": [
    {
     "data": {
      "text/plain": [
       "{'Artifical': 'made or produced by human beings rather than occurring naturally, especially as a copy of something',\n",
       " 'Intelligence': 'the ability to acquire and apply knowledge and skills.',\n",
       " 2023: 'The current year'}"
      ]
     },
     "execution_count": 14,
     "metadata": {},
     "output_type": "execute_result"
    }
   ],
   "source": [
    "mydict"
   ]
  },
  {
   "cell_type": "code",
   "execution_count": 15,
   "metadata": {},
   "outputs": [
    {
     "name": "stdout",
     "output_type": "stream",
     "text": [
      "The keys in the given Dictionary are \n",
      " dict_keys(['Artifical', 'Intelligence', 2023])\n"
     ]
    }
   ],
   "source": [
    "print(f\"The keys in the given Dictionary are \\n {mydict.keys()}\")"
   ]
  },
  {
   "cell_type": "code",
   "execution_count": 16,
   "metadata": {},
   "outputs": [
    {
     "name": "stdout",
     "output_type": "stream",
     "text": [
      "The values in the given Dictionary are \n",
      " dict_values(['made or produced by human beings rather than occurring naturally, especially as a copy of something', 'the ability to acquire and apply knowledge and skills.', 'The current year'])\n"
     ]
    }
   ],
   "source": [
    "print(f\"The values in the given Dictionary are \\n {mydict.values()}\")"
   ]
  },
  {
   "cell_type": "code",
   "execution_count": 17,
   "metadata": {},
   "outputs": [
    {
     "name": "stdout",
     "output_type": "stream",
     "text": [
      "The original dictionary is\n",
      "\n",
      " {'Artifical': 'made or produced by human beings rather than occurring naturally, especially as a copy of something', 'Intelligence': 'the ability to acquire and apply knowledge and skills.', 2023: 'The current year'}\n",
      "\n",
      " Inserting new key pair in dictionary \n",
      "\n",
      "Updated Dictionary is \n",
      "\n",
      "{'Artifical': 'made or produced by human beings rather than occurring naturally, especially as a copy of something', 'Intelligence': 'the ability to acquire and apply knowledge and skills.', 2023: 'The current year', 'Ali': 'Height/limit/shore/Remote/Farthest', 'laboratory': 'a room or building equipped for scientific experiments, research, or teaching, or for the manufacture of drugs or chemicals'}\n"
     ]
    }
   ],
   "source": [
    "print(\"The original dictionary is\\n\\n\", mydict)\n",
    "\n",
    "updatedict={\"Ali\": \"Height/limit/shore/Remote/Farthest\",\n",
    "            \"laboratory\":\"a room or building equipped for scientific experiments, research, or teaching, or for the manufacture of drugs or chemicals\"}\n",
    "\n",
    "print(\"\\n Inserting new key pair in dictionary \\n\\nUpdated Dictionary is \\n\")\n",
    "\n",
    "mydict.update(updatedict)\n",
    "\n",
    "print(mydict)"
   ]
  },
  {
   "cell_type": "code",
   "execution_count": 18,
   "metadata": {},
   "outputs": [
    {
     "data": {
      "text/plain": [
       "{'Artifical': 'made or produced by human beings rather than occurring naturally, especially as a copy of something',\n",
       " 'Intelligence': 'the ability to acquire and apply knowledge and skills.',\n",
       " 2023: 'The current year',\n",
       " 'Ali': 'Height/limit/shore/Remote/Farthest',\n",
       " 'laboratory': 'a room or building equipped for scientific experiments, research, or teaching, or for the manufacture of drugs or chemicals'}"
      ]
     },
     "execution_count": 18,
     "metadata": {},
     "output_type": "execute_result"
    }
   ],
   "source": [
    "dictCopy = mydict.copy()\n",
    "\n",
    "dictCopy"
   ]
  },
  {
   "attachments": {},
   "cell_type": "markdown",
   "metadata": {},
   "source": [
    "Example 07: Decision Making Statements"
   ]
  },
  {
   "cell_type": "code",
   "execution_count": 19,
   "metadata": {},
   "outputs": [
    {
     "name": "stdout",
     "output_type": "stream",
     "text": [
      "a is greater then b\n"
     ]
    }
   ],
   "source": [
    "a = 5\n",
    "b = 2\n",
    "\n",
    "if a > b:\n",
    "    print(\"a is greater then b\")\n",
    "elif b > a:\n",
    "    print(\"a is less then b\")\n",
    "else:\n",
    "    print(\"a and b are equal\")"
   ]
  },
  {
   "cell_type": "code",
   "execution_count": 20,
   "metadata": {},
   "outputs": [
    {
     "name": "stdout",
     "output_type": "stream",
     "text": [
      "a is less then b\n"
     ]
    }
   ],
   "source": [
    "a = int(input(\"Enter value of a: \"))\n",
    "b = int(input(\"Enter value of b: \"))\n",
    "\n",
    "if a > b:\n",
    "    print(\"a is greater then b\")\n",
    "elif b > a:\n",
    "    print(\"a is less then b\")\n",
    "else:\n",
    "    print(\"a and b are equal\")"
   ]
  },
  {
   "attachments": {},
   "cell_type": "markdown",
   "metadata": {},
   "source": [
    "Example 08: For Loop"
   ]
  },
  {
   "cell_type": "code",
   "execution_count": 21,
   "metadata": {},
   "outputs": [
    {
     "name": "stdout",
     "output_type": "stream",
     "text": [
      "Implementing for loop :\n",
      "P\n",
      "Y\n",
      "T\n",
      "H\n",
      "O\n",
      "N\n",
      "\n",
      "\n",
      "Removing Newline from print statement : \n",
      "PYTHON\n",
      "\n",
      "Adding different characters/symbol in print statement: \n",
      "P*Y*T*H*O*N*"
     ]
    }
   ],
   "source": [
    "print(\"Implementing for loop :\")\n",
    "\n",
    "for i in \"PYTHON\":\n",
    "    print (i)\n",
    "\n",
    "print(\"\\n\\nRemoving Newline from print statement : \")\n",
    "\n",
    "for i in \"PYTHON\":\n",
    "    print (i,end='')\n",
    "\n",
    "print(\"\\n\\nAdding different characters/symbol in print statement: \")\n",
    "\n",
    "for i in \"PYTHON\":\n",
    "    print (i, end='*')"
   ]
  },
  {
   "cell_type": "code",
   "execution_count": 22,
   "metadata": {},
   "outputs": [
    {
     "name": "stdout",
     "output_type": "stream",
     "text": [
      "Implementing for loop :\n",
      "1\n",
      "2\n",
      "3\n",
      "4\n",
      "5\n",
      "6\n",
      "\n",
      "\n",
      "Removing Newline from print statement : \n",
      "123456\n",
      "\n",
      "Adding different characters/symbol in print statement: \n",
      "1*2*3*4*5*6*"
     ]
    }
   ],
   "source": [
    "list = [1,2,3,4,5,6]\n",
    "\n",
    "print(\"Implementing for loop :\")\n",
    "\n",
    "for i in list:\n",
    "    print (i)\n",
    "\n",
    "print(\"\\n\\nRemoving Newline from print statement : \")\n",
    "\n",
    "for i in list:\n",
    "    print (i,end='')\n",
    "\n",
    "print(\"\\n\\nAdding different characters/symbol in print statement: \")\n",
    "\n",
    "for i in list:\n",
    "    print (i, end='*')"
   ]
  },
  {
   "attachments": {},
   "cell_type": "markdown",
   "metadata": {},
   "source": [
    " >> By using for loop print counting from 1 to 10 and later change the step size."
   ]
  },
  {
   "cell_type": "code",
   "execution_count": 23,
   "metadata": {},
   "outputs": [
    {
     "name": "stdout",
     "output_type": "stream",
     "text": [
      "1\n",
      "2\n",
      "3\n",
      "4\n",
      "5\n",
      "6\n",
      "7\n",
      "8\n",
      "9\n",
      "10\n",
      "\n",
      "after chnaging the step size to 2\n",
      "\n",
      "1\n",
      "3\n",
      "5\n",
      "7\n",
      "9\n"
     ]
    }
   ],
   "source": [
    "for i in range(1, 11):\n",
    "    print(i)\n",
    "\n",
    "print(\"\\nafter chnaging the step size to 2\\n\")\n",
    "\n",
    "for i in range(1, 11, 2):\n",
    "    print(i)"
   ]
  },
  {
   "cell_type": "code",
   "execution_count": 24,
   "metadata": {},
   "outputs": [
    {
     "name": "stdout",
     "output_type": "stream",
     "text": [
      "6  *  1 =  6\n",
      "6  *  2 =  12\n",
      "6  *  3 =  18\n",
      "6  *  4 =  24\n",
      "6  *  5 =  30\n",
      "6  *  6 =  36\n",
      "6  *  7 =  42\n",
      "6  *  8 =  48\n",
      "6  *  9 =  54\n",
      "6  *  10 =  60\n"
     ]
    }
   ],
   "source": [
    "a = int(input(\"Enter the number for which you want to print table: \"))\n",
    "\n",
    "for i in range(1, 11):\n",
    "    print(f\"{a}  *  {i} =  {i*a}\")"
   ]
  },
  {
   "attachments": {},
   "cell_type": "markdown",
   "metadata": {},
   "source": [
    ">>Print the keys of a dictionary using for loop"
   ]
  },
  {
   "cell_type": "code",
   "execution_count": 26,
   "metadata": {},
   "outputs": [
    {
     "name": "stdout",
     "output_type": "stream",
     "text": [
      "Artifical\n",
      "Intelligence\n",
      "2023\n"
     ]
    }
   ],
   "source": [
    "mydict={ \"Artifical\" : \"made or produced by human beings rather than occurring naturally, especially as a copy of something\",\n",
    "        \"Intelligence\" : \"the ability to acquire and apply knowledge and skills.\",\n",
    "        2023: \"The current year\"}\n",
    "\n",
    "for i in mydict:\n",
    "    print(i)"
   ]
  },
  {
   "cell_type": "code",
   "execution_count": 3,
   "metadata": {},
   "outputs": [
    {
     "name": "stdout",
     "output_type": "stream",
     "text": [
      "made or produced by human beings rather than occurring naturally, especially as a copy of something\n",
      "the ability to acquire and apply knowledge and skills.\n",
      "The current year\n"
     ]
    }
   ],
   "source": [
    "mydict={ \"Artifical\" : \"made or produced by human beings rather than occurring naturally, especially as a copy of something\",\n",
    "        \"Intelligence\" : \"the ability to acquire and apply knowledge and skills.\",\n",
    "        2023: \"The current year\"}\n",
    "\n",
    "for i in mydict:\n",
    "    print(mydict[i])"
   ]
  },
  {
   "cell_type": "code",
   "execution_count": 4,
   "metadata": {},
   "outputs": [
    {
     "name": "stdout",
     "output_type": "stream",
     "text": [
      "Artifical : made or produced by human beings rather than occurring naturally, especially as a copy of something\n",
      "Intelligence : the ability to acquire and apply knowledge and skills.\n",
      "2023 : The current year\n"
     ]
    }
   ],
   "source": [
    "mydict={ \"Artifical\" : \"made or produced by human beings rather than occurring naturally, especially as a copy of something\",\n",
    "        \"Intelligence\" : \"the ability to acquire and apply knowledge and skills.\",\n",
    "        2023: \"The current year\"}\n",
    "\n",
    "for i in mydict:\n",
    "    print(i, \":\", mydict[i])"
   ]
  },
  {
   "cell_type": "code",
   "execution_count": 5,
   "metadata": {},
   "outputs": [
    {
     "name": "stdout",
     "output_type": "stream",
     "text": [
      "2,4,6,8,10,12,14,16,18,20,22,24,26,28,30,32,34,36,38,40,42,44,46,48,50,52,54,56,58,60,62,64,66,68,70,72,74,76,78,80,82,84,86,88,90,92,94,96,98,100,"
     ]
    }
   ],
   "source": [
    "for i in range(1, 101):\n",
    "    if i%2 == 0:\n",
    "        print(i, end=\",\")"
   ]
  },
  {
   "cell_type": "code",
   "execution_count": 7,
   "metadata": {},
   "outputs": [
    {
     "name": "stdout",
     "output_type": "stream",
     "text": [
      "6,16,26,36,46,56,66,76,86,96,\n",
      "the total number is  10\n"
     ]
    }
   ],
   "source": [
    "count = 0\n",
    "for i in range(1, 101, 5):\n",
    "    if i%2 == 0:\n",
    "        print(i, end=\",\")\n",
    "        count +=1\n",
    "print(\"\\nthe total number is \", count)"
   ]
  },
  {
   "cell_type": "code",
   "execution_count": 8,
   "metadata": {},
   "outputs": [
    {
     "name": "stdout",
     "output_type": "stream",
     "text": [
      "[2, 5, 8]\n"
     ]
    }
   ],
   "source": [
    "lis = []\n",
    "\n",
    "for i in range(1, 4):\n",
    "    a = int(input(\"Enter the element: \"))\n",
    "    lis.append(a)\n",
    "print(lis)"
   ]
  },
  {
   "attachments": {},
   "cell_type": "markdown",
   "metadata": {},
   "source": [
    "Example 09: While Loop"
   ]
  },
  {
   "cell_type": "code",
   "execution_count": 9,
   "metadata": {},
   "outputs": [
    {
     "name": "stdout",
     "output_type": "stream",
     "text": [
      "0\n",
      "1\n",
      "2\n",
      "3\n",
      "4\n",
      "5\n",
      "6\n",
      "7\n",
      "8\n",
      "9\n"
     ]
    }
   ],
   "source": [
    "i = 0\n",
    "\n",
    "while i < 10:\n",
    "    print(i)\n",
    "    i += 1"
   ]
  },
  {
   "cell_type": "code",
   "execution_count": 10,
   "metadata": {},
   "outputs": [
    {
     "name": "stdout",
     "output_type": "stream",
     "text": [
      "The input list is \n",
      " [1, 5, 4, 4, 5, 8, 9, 7, 10, 258]\n",
      "The greatest number amongst the list is :  258\n"
     ]
    }
   ],
   "source": [
    "i=0\n",
    "j=1\n",
    "lis = []\n",
    "while (i<10):\n",
    "    a=int (input(\"Enter the element : \"))\n",
    "    lis.append(a)\n",
    "\n",
    "    i=i+1\n",
    "\n",
    "print(\"The input list is \\n\", lis )\n",
    "\n",
    "maxi=lis[0]\n",
    "\n",
    "while (j<10):\n",
    "    if(maxi<lis [j]):\n",
    "        maxi=lis[j]\n",
    "    j=j+1\n",
    "\n",
    "print(\"The greatest number amongst the list is : \", maxi)"
   ]
  },
  {
   "attachments": {},
   "cell_type": "markdown",
   "metadata": {},
   "source": [
    "Example 10: Functions"
   ]
  },
  {
   "cell_type": "code",
   "execution_count": 11,
   "metadata": {},
   "outputs": [
    {
     "name": "stdout",
     "output_type": "stream",
     "text": [
      "This is my Function\n"
     ]
    }
   ],
   "source": [
    "def myFunc():\n",
    "    print(\"This is my Function\")\n",
    "    \n",
    "myFunc()"
   ]
  },
  {
   "cell_type": "code",
   "execution_count": 13,
   "metadata": {},
   "outputs": [],
   "source": [
    "def addAB(a, b):\n",
    "    sum = a + b\n",
    "    return sum"
   ]
  },
  {
   "cell_type": "code",
   "execution_count": 14,
   "metadata": {},
   "outputs": [
    {
     "name": "stdout",
     "output_type": "stream",
     "text": [
      "8\n"
     ]
    }
   ],
   "source": [
    "sum = addAB(3, 5)\n",
    "print(sum)"
   ]
  },
  {
   "cell_type": "code",
   "execution_count": 15,
   "metadata": {},
   "outputs": [
    {
     "data": {
      "text/plain": [
       "7"
      ]
     },
     "execution_count": 15,
     "metadata": {},
     "output_type": "execute_result"
    }
   ],
   "source": [
    "def addAB(a, b):\n",
    "    return a+b\n",
    "addAB(4, 3)"
   ]
  },
  {
   "cell_type": "code",
   "execution_count": 16,
   "metadata": {},
   "outputs": [
    {
     "data": {
      "text/plain": [
       "5"
      ]
     },
     "execution_count": 16,
     "metadata": {},
     "output_type": "execute_result"
    }
   ],
   "source": [
    "def addAB(a = 1, b = 1):\n",
    "    return a + b\n",
    "addAB(a=4)"
   ]
  },
  {
   "attachments": {},
   "cell_type": "markdown",
   "metadata": {},
   "source": [
    "Example 11: Lambda Function"
   ]
  },
  {
   "cell_type": "code",
   "execution_count": 17,
   "metadata": {},
   "outputs": [
    {
     "name": "stdout",
     "output_type": "stream",
     "text": [
      "8\n"
     ]
    }
   ],
   "source": [
    "add = lambda x, y: x + y\n",
    "\n",
    "# Use the lambda function\n",
    "result = add(5, 3)\n",
    "print(result)"
   ]
  },
  {
   "cell_type": "code",
   "execution_count": 18,
   "metadata": {},
   "outputs": [
    {
     "name": "stdout",
     "output_type": "stream",
     "text": [
      "[1, 4, 9, 16, 25]\n"
     ]
    }
   ],
   "source": [
    "# Create a list of numbers\n",
    "numbers = [1, 2, 3, 4, 5]\n",
    "\n",
    "# Use map() with a lambda function to square each number\n",
    "squared_numbers = list(map(lambda x: x**2, numbers))\n",
    "\n",
    "print(squared_numbers)  "
   ]
  },
  {
   "cell_type": "code",
   "execution_count": null,
   "metadata": {},
   "outputs": [],
   "source": []
  },
  {
   "attachments": {},
   "cell_type": "markdown",
   "metadata": {},
   "source": [
    "Lab Task 02"
   ]
  }
 ],
 "metadata": {
  "kernelspec": {
   "display_name": "Python 3",
   "language": "python",
   "name": "python3"
  },
  "language_info": {
   "codemirror_mode": {
    "name": "ipython",
    "version": 3
   },
   "file_extension": ".py",
   "mimetype": "text/x-python",
   "name": "python",
   "nbconvert_exporter": "python",
   "pygments_lexer": "ipython3",
   "version": "3.7.6 (tags/v3.7.6:43364a7ae0, Dec 19 2019, 00:42:30) [MSC v.1916 64 bit (AMD64)]"
  },
  "orig_nbformat": 4,
  "vscode": {
   "interpreter": {
    "hash": "8a5edab282632443219e051e4ade2d1d5bbc671c781051bf1437897cbdfea0f1"
   }
  }
 },
 "nbformat": 4,
 "nbformat_minor": 2
}
